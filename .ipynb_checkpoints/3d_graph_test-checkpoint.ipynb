{
 "cells": [
  {
   "cell_type": "code",
   "execution_count": 72,
   "id": "d676d926-5075-464b-857b-be99059ece08",
   "metadata": {},
   "outputs": [
    {
     "data": {
      "text/html": [
       "<div>\n",
       "<style scoped>\n",
       "    .dataframe tbody tr th:only-of-type {\n",
       "        vertical-align: middle;\n",
       "    }\n",
       "\n",
       "    .dataframe tbody tr th {\n",
       "        vertical-align: top;\n",
       "    }\n",
       "\n",
       "    .dataframe thead th {\n",
       "        text-align: right;\n",
       "    }\n",
       "</style>\n",
       "<table border=\"1\" class=\"dataframe\">\n",
       "  <thead>\n",
       "    <tr style=\"text-align: right;\">\n",
       "      <th></th>\n",
       "      <th>x</th>\n",
       "      <th>y</th>\n",
       "      <th>z</th>\n",
       "      <th>nx</th>\n",
       "      <th>ny</th>\n",
       "      <th>nz</th>\n",
       "    </tr>\n",
       "  </thead>\n",
       "  <tbody>\n",
       "    <tr>\n",
       "      <th>count</th>\n",
       "      <td>2850.000000</td>\n",
       "      <td>2850.000000</td>\n",
       "      <td>2850.000000</td>\n",
       "      <td>2850.000000</td>\n",
       "      <td>2850.000000</td>\n",
       "      <td>2850.000000</td>\n",
       "    </tr>\n",
       "    <tr>\n",
       "      <th>mean</th>\n",
       "      <td>-3.024130</td>\n",
       "      <td>-64.048523</td>\n",
       "      <td>-0.988040</td>\n",
       "      <td>-0.018404</td>\n",
       "      <td>-0.010226</td>\n",
       "      <td>-0.003597</td>\n",
       "    </tr>\n",
       "    <tr>\n",
       "      <th>std</th>\n",
       "      <td>1.438590</td>\n",
       "      <td>3.752776</td>\n",
       "      <td>5.280719</td>\n",
       "      <td>0.652037</td>\n",
       "      <td>0.533254</td>\n",
       "      <td>0.473070</td>\n",
       "    </tr>\n",
       "    <tr>\n",
       "      <th>min</th>\n",
       "      <td>-5.642354</td>\n",
       "      <td>-73.711548</td>\n",
       "      <td>-10.798205</td>\n",
       "      <td>-0.997180</td>\n",
       "      <td>-0.998788</td>\n",
       "      <td>-0.990127</td>\n",
       "    </tr>\n",
       "    <tr>\n",
       "      <th>25%</th>\n",
       "      <td>-3.995625</td>\n",
       "      <td>-66.574753</td>\n",
       "      <td>-4.782019</td>\n",
       "      <td>-0.657925</td>\n",
       "      <td>-0.473886</td>\n",
       "      <td>-0.341236</td>\n",
       "    </tr>\n",
       "    <tr>\n",
       "      <th>50%</th>\n",
       "      <td>-3.224413</td>\n",
       "      <td>-64.810169</td>\n",
       "      <td>-2.212418</td>\n",
       "      <td>-0.015094</td>\n",
       "      <td>0.009492</td>\n",
       "      <td>-0.008291</td>\n",
       "    </tr>\n",
       "    <tr>\n",
       "      <th>75%</th>\n",
       "      <td>-2.252383</td>\n",
       "      <td>-60.959217</td>\n",
       "      <td>2.768052</td>\n",
       "      <td>0.608540</td>\n",
       "      <td>0.434386</td>\n",
       "      <td>0.338316</td>\n",
       "    </tr>\n",
       "    <tr>\n",
       "      <th>max</th>\n",
       "      <td>1.951499</td>\n",
       "      <td>-55.387867</td>\n",
       "      <td>10.856258</td>\n",
       "      <td>0.992494</td>\n",
       "      <td>0.991627</td>\n",
       "      <td>0.997717</td>\n",
       "    </tr>\n",
       "  </tbody>\n",
       "</table>\n",
       "</div>"
      ],
      "text/plain": [
       "                 x            y            z           nx           ny  \\\n",
       "count  2850.000000  2850.000000  2850.000000  2850.000000  2850.000000   \n",
       "mean     -3.024130   -64.048523    -0.988040    -0.018404    -0.010226   \n",
       "std       1.438590     3.752776     5.280719     0.652037     0.533254   \n",
       "min      -5.642354   -73.711548   -10.798205    -0.997180    -0.998788   \n",
       "25%      -3.995625   -66.574753    -4.782019    -0.657925    -0.473886   \n",
       "50%      -3.224413   -64.810169    -2.212418    -0.015094     0.009492   \n",
       "75%      -2.252383   -60.959217     2.768052     0.608540     0.434386   \n",
       "max       1.951499   -55.387867    10.856258     0.992494     0.991627   \n",
       "\n",
       "                nz  \n",
       "count  2850.000000  \n",
       "mean     -0.003597  \n",
       "std       0.473070  \n",
       "min      -0.990127  \n",
       "25%      -0.341236  \n",
       "50%      -0.008291  \n",
       "75%       0.338316  \n",
       "max       0.997717  "
      ]
     },
     "execution_count": 72,
     "metadata": {},
     "output_type": "execute_result"
    }
   ],
   "source": [
    "import pyvista as pv\n",
    "from pyntcloud import PyntCloud\n",
    "\n",
    "\n",
    "# original_point_cloud = pv.read(\"artery-6-10.ply\")\n",
    "cloud = PyntCloud.from_file(\"artery-6-10.ply\")\n",
    "cloud\n",
    "cloud.points.describe()"
   ]
  },
  {
   "cell_type": "code",
   "execution_count": 77,
   "id": "83326b1d-7213-481e-96d8-b413d675be3e",
   "metadata": {},
   "outputs": [
    {
     "data": {
      "text/html": [
       "\n",
       "        <iframe\n",
       "            width=\"800\"\n",
       "            height=\"500\"\n",
       "            src=\"pyntcloud_plot.html\"\n",
       "            frameborder=\"0\"\n",
       "            allowfullscreen\n",
       "            \n",
       "        ></iframe>\n",
       "        "
      ],
      "text/plain": [
       "<IPython.lib.display.IFrame at 0x7fc4302efac0>"
      ]
     },
     "execution_count": 77,
     "metadata": {},
     "output_type": "execute_result"
    }
   ],
   "source": [
    "cloud.plot(mesh=True,backend=\"threejs\",background=\"red\")"
   ]
  },
  {
   "cell_type": "code",
   "execution_count": 69,
   "id": "01a14b0d-8c4c-4621-bf43-66aa93f1e531",
   "metadata": {},
   "outputs": [
    {
     "name": "stdout",
     "output_type": "stream",
     "text": [
      "<numpy.lib.npyio.NpzFile object at 0x7fc438068100>\n"
     ]
    },
    {
     "ename": "NameError",
     "evalue": "name 'x' is not defined",
     "output_type": "error",
     "traceback": [
      "\u001b[0;31m---------------------------------------------------------------------------\u001b[0m",
      "\u001b[0;31mNameError\u001b[0m                                 Traceback (most recent call last)",
      "\u001b[0;32m/var/folders/ls/88s14scx2r1cwsmhbts_nw480000gn/T/ipykernel_17252/3448101411.py\u001b[0m in \u001b[0;36m<module>\u001b[0;34m\u001b[0m\n\u001b[1;32m     12\u001b[0m \u001b[0max\u001b[0m \u001b[0;34m=\u001b[0m \u001b[0mfig\u001b[0m\u001b[0;34m.\u001b[0m\u001b[0madd_subplot\u001b[0m\u001b[0;34m(\u001b[0m\u001b[0;36m111\u001b[0m\u001b[0;34m,\u001b[0m \u001b[0mprojection\u001b[0m\u001b[0;34m=\u001b[0m\u001b[0;34m'3d'\u001b[0m\u001b[0;34m)\u001b[0m\u001b[0;34m\u001b[0m\u001b[0;34m\u001b[0m\u001b[0m\n\u001b[1;32m     13\u001b[0m \u001b[0;34m\u001b[0m\u001b[0m\n\u001b[0;32m---> 14\u001b[0;31m \u001b[0max\u001b[0m\u001b[0;34m.\u001b[0m\u001b[0mscatter\u001b[0m\u001b[0;34m(\u001b[0m\u001b[0mx\u001b[0m\u001b[0;34m,\u001b[0m \u001b[0my\u001b[0m\u001b[0;34m,\u001b[0m \u001b[0mz\u001b[0m\u001b[0;34m)\u001b[0m\u001b[0;34m\u001b[0m\u001b[0;34m\u001b[0m\u001b[0m\n\u001b[0m\u001b[1;32m     15\u001b[0m \u001b[0mplt\u001b[0m\u001b[0;34m.\u001b[0m\u001b[0mshow\u001b[0m\u001b[0;34m(\u001b[0m\u001b[0;34m)\u001b[0m\u001b[0;34m\u001b[0m\u001b[0;34m\u001b[0m\u001b[0m\n",
      "\u001b[0;31mNameError\u001b[0m: name 'x' is not defined"
     ]
    },
    {
     "data": {
      "image/png": "[encoded data removed]",
      "text/plain": [
       "<Figure size 576x576 with 1 Axes>"
      ]
     },
     "metadata": {
      "needs_background": "light"
     },
     "output_type": "display_data"
    }
   ],
   "source": [
    "import numpy as np\n",
    "data = np.load('out_file.npz')\n",
    "print(data)\n",
    "# x = data[:, 0]\n",
    "# y = data[:, 1]\n",
    "# z = data[:, 2]\n",
    "\n",
    "import matplotlib.pyplot as plt\n",
    "from mpl_toolkits.mplot3d import proj3d\n",
    "\n",
    "fig = plt.figure(figsize=(8, 8))\n",
    "ax = fig.add_subplot(111, projection='3d')\n",
    "\n",
    "ax.scatter(x, y, z)\n",
    "plt.show()"
   ]
  },
  {
   "cell_type": "code",
   "execution_count": null,
   "id": "a9006f76-3170-4c30-bab7-80499d4e112e",
   "metadata": {},
   "outputs": [],
   "source": [
    "! pip install obj2html\n",
    "! wget https://gitlab.com/nicolalandro/obj2html/-/raw/main/test/assets/model.obj"
   ]
  },
  {
   "cell_type": "code",
   "execution_count": 17,
   "id": "832835b0-338a-4d70-bd90-9dc9955499ed",
   "metadata": {},
   "outputs": [
    {
     "name": "stdout",
     "output_type": "stream",
     "text": [
      "Requirement already satisfied: open3d in /Users/ianwu/opt/anaconda3/lib/python3.9/site-packages (0.15.1)\n",
      "Requirement already satisfied: scikit-learn>=0.21 in /Users/ianwu/opt/anaconda3/lib/python3.9/site-packages (from open3d) (0.24.2)\n",
      "Requirement already satisfied: pillow>=8.2.0 in /Users/ianwu/opt/anaconda3/lib/python3.9/site-packages (from open3d) (8.4.0)\n",
      "Requirement already satisfied: tqdm in /Users/ianwu/opt/anaconda3/lib/python3.9/site-packages (from open3d) (4.62.3)\n",
      "Requirement already satisfied: numpy>1.15 in /Users/ianwu/opt/anaconda3/lib/python3.9/site-packages (from open3d) (1.20.3)\n",
      "Requirement already satisfied: setuptools>=40.8.0 in /Users/ianwu/opt/anaconda3/lib/python3.9/site-packages (from open3d) (58.0.4)\n",
      "Requirement already satisfied: pyquaternion in /Users/ianwu/opt/anaconda3/lib/python3.9/site-packages (from open3d) (0.9.9)\n",
      "Requirement already satisfied: pyyaml>=5.4.1 in /Users/ianwu/opt/anaconda3/lib/python3.9/site-packages (from open3d) (6.0)\n",
      "Requirement already satisfied: matplotlib>=3 in /Users/ianwu/opt/anaconda3/lib/python3.9/site-packages (from open3d) (3.4.3)\n",
      "Requirement already satisfied: pandas>=1.0 in /Users/ianwu/opt/anaconda3/lib/python3.9/site-packages (from open3d) (1.3.4)\n",
      "Requirement already satisfied: wheel>=0.36.0 in /Users/ianwu/opt/anaconda3/lib/python3.9/site-packages (from open3d) (0.37.0)\n",
      "Requirement already satisfied: addict in /Users/ianwu/opt/anaconda3/lib/python3.9/site-packages (from open3d) (2.4.0)\n",
      "Requirement already satisfied: pyparsing>=2.2.1 in /Users/ianwu/opt/anaconda3/lib/python3.9/site-packages (from matplotlib>=3->open3d) (3.0.4)\n",
      "Requirement already satisfied: cycler>=0.10 in /Users/ianwu/opt/anaconda3/lib/python3.9/site-packages (from matplotlib>=3->open3d) (0.10.0)\n",
      "Requirement already satisfied: python-dateutil>=2.7 in /Users/ianwu/opt/anaconda3/lib/python3.9/site-packages (from matplotlib>=3->open3d) (2.8.2)\n",
      "Requirement already satisfied: kiwisolver>=1.0.1 in /Users/ianwu/opt/anaconda3/lib/python3.9/site-packages (from matplotlib>=3->open3d) (1.3.1)\n",
      "Requirement already satisfied: six in /Users/ianwu/opt/anaconda3/lib/python3.9/site-packages (from cycler>=0.10->matplotlib>=3->open3d) (1.16.0)\n",
      "Requirement already satisfied: pytz>=2017.3 in /Users/ianwu/opt/anaconda3/lib/python3.9/site-packages (from pandas>=1.0->open3d) (2021.3)\n",
      "Requirement already satisfied: threadpoolctl>=2.0.0 in /Users/ianwu/opt/anaconda3/lib/python3.9/site-packages (from scikit-learn>=0.21->open3d) (2.2.0)\n",
      "Requirement already satisfied: scipy>=0.19.1 in /Users/ianwu/opt/anaconda3/lib/python3.9/site-packages (from scikit-learn>=0.21->open3d) (1.7.1)\n",
      "Requirement already satisfied: joblib>=0.11 in /Users/ianwu/opt/anaconda3/lib/python3.9/site-packages (from scikit-learn>=0.21->open3d) (1.1.0)\n"
     ]
    }
   ],
   "source": [
    "! pip install open3d"
   ]
  },
  {
   "cell_type": "code",
   "execution_count": null,
   "id": "15465085-822f-48b6-86ae-4fce61414e59",
   "metadata": {},
   "outputs": [],
   "source": [
    "from obj2html import obj2html\n",
    "from IPython.display import display, HTML"
   ]
  },
  {
   "cell_type": "code",
   "execution_count": null,
   "id": "09a75da3-96c0-4656-9222-cd84a2f8ccd0",
   "metadata": {},
   "outputs": [],
   "source": [
    "obj2html('ArteryObjAN6-10.obj', 'index.html')\n",
    "display(HTML('index.html'))"
   ]
  },
  {
   "cell_type": "markdown",
   "id": "00d27a92-bec7-4238-be83-21b244e274b2",
   "metadata": {},
   "source": [
    "## PyGEL Package ##"
   ]
  },
  {
   "cell_type": "code",
   "execution_count": 22,
   "id": "bb63a62e-782a-481f-8e18-61402fd342f9",
   "metadata": {},
   "outputs": [],
   "source": [
    "from pygel3d import graph\n",
    "from pygel3d import hmesh, gl_display as gl\n",
    "from pygel3d import jupyter_display as jd"
   ]
  },
  {
   "cell_type": "code",
   "execution_count": 30,
   "id": "0c66a636-9b18-4f93-8d78-911b0f29e50b",
   "metadata": {},
   "outputs": [
    {
     "data": {
      "application/vnd.jupyter.widget-view+json": {
       "model_id": "2ae6565eaf7a46cca4b4f7befa00dacd",
       "version_major": 2,
       "version_minor": 0
      },
      "text/plain": [
       "FigureWidget({\n",
       "    'data': [{'color': '#dddddd',\n",
       "              'flatshading': False,\n",
       "              'i': array(…"
      ]
     },
     "metadata": {},
     "output_type": "display_data"
    }
   ],
   "source": [
    "ground_truth = hmesh.load(\"ArteryObjAN6-10.obj\")\n",
    "jd.display(ground_truth)"
   ]
  },
  {
   "cell_type": "code",
   "execution_count": 31,
   "id": "7a7413b1-3b36-45cf-83e6-c068e5e705ac",
   "metadata": {},
   "outputs": [
    {
     "ename": "ModuleNotFoundError",
     "evalue": "No module named 'o3d'",
     "output_type": "error",
     "traceback": [
      "\u001b[0;31m---------------------------------------------------------------------------\u001b[0m",
      "\u001b[0;31mModuleNotFoundError\u001b[0m                       Traceback (most recent call last)",
      "\u001b[0;32m/var/folders/ls/88s14scx2r1cwsmhbts_nw480000gn/T/ipykernel_17252/2565238930.py\u001b[0m in \u001b[0;36m<module>\u001b[0;34m\u001b[0m\n\u001b[1;32m      1\u001b[0m \u001b[0;32mimport\u001b[0m \u001b[0mopen3d\u001b[0m \u001b[0;32mas\u001b[0m \u001b[0mo3d\u001b[0m\u001b[0;34m\u001b[0m\u001b[0;34m\u001b[0m\u001b[0m\n\u001b[0;32m----> 2\u001b[0;31m \u001b[0;32mfrom\u001b[0m \u001b[0mo3d\u001b[0m\u001b[0;34m.\u001b[0m\u001b[0mj_visualizer\u001b[0m \u001b[0;32mimport\u001b[0m \u001b[0mJVisualizer\u001b[0m\u001b[0;34m\u001b[0m\u001b[0;34m\u001b[0m\u001b[0m\n\u001b[0m",
      "\u001b[0;31mModuleNotFoundError\u001b[0m: No module named 'o3d'"
     ]
    }
   ],
   "source": [
    "import open3d as o3d\n",
    "from o3d.j_visualizer import JVisualizer"
   ]
  },
  {
   "cell_type": "code",
   "execution_count": 73,
   "id": "50ba9f06-88e4-40fb-9817-42be5f8217ed",
   "metadata": {},
   "outputs": [
    {
     "data": {
      "application/vnd.jupyter.widget-view+json": {
       "model_id": "add24ea70977445981cd0c31f54f00fa",
       "version_major": 2,
       "version_minor": 0
      },
      "text/plain": [
       "FigureWidget({\n",
       "    'data': [], 'layout': {'height': 800, 'scene': {'aspectmode': 'data'}, 'template': '...', '…"
      ]
     },
     "metadata": {},
     "output_type": "display_data"
    }
   ],
   "source": [
    "# cloud = o3d.io.read_point_cloud(\"artery-6-10.ply\")\n",
    " # o3d.visualization.draw_geometries([cloud], zoom=0.3412,\n",
    " #                                  front=[0.4257, -0.2125, -0.8795],\n",
    " #                                  lookat=[2.6172, 2.0475, 1.532],\n",
    " #                                  up=[-0.0694, -0.9768, 0.2024])\n",
    "# visualizer = o3d.JVisualizer()\n",
    "# visualizer.add_geometry(cloud)\n",
    "# visualizer.show()\n",
    "\n",
    "# cloud = graph.load(\"artery-6-10.ply\")\n",
    "jd.display(cloud)"
   ]
  },
  {
   "cell_type": "code",
   "execution_count": 20,
   "id": "9759f8c7-d683-4593-9ae7-a032cfe0c3a9",
   "metadata": {},
   "outputs": [
    {
     "data": {
      "application/vnd.jupyter.widget-view+json": {
       "model_id": "b0636e345e544c74aa428e4161908c89",
       "version_major": 2,
       "version_minor": 0
      },
      "text/plain": [
       "FigureWidget({\n",
       "    'data': [{'color': '#dddddd',\n",
       "              'flatshading': False,\n",
       "              'i': array(…"
      ]
     },
     "metadata": {},
     "output_type": "display_data"
    }
   ],
   "source": [
    "output = hmesh.load(\"output_model_mesh.ply\")\n",
    "jd.display(output)"
   ]
  },
  {
   "cell_type": "code",
   "execution_count": null,
   "id": "367861dd-002f-4d55-a0d3-967231088f91",
   "metadata": {},
   "outputs": [],
   "source": [
    "from pygel3d import hmesh, gl_display as gl\n",
    "\n",
    "m = hmesh.load(\"ArteryObjAN6-10.obj\")\n",
    "viewer = gl.Viewer()\n",
    "viewer.display(m)\n",
    "\n",
    "viewer.event_loop()\n",
    "del viewer\n",
    "\n",
    "from pygel3d import jupyter_display as jd\n",
    "jd.set_export_mode(True)\n",
    "jd.display(m, smooth=False)\n",
    "\n",
    "pos = m.positions()\n",
    "jd.display(m, data=pos[:,0], wireframe=False)"
   ]
  },
  {
   "cell_type": "code",
   "execution_count": null,
   "id": "7d09076c-1f07-414e-8af4-92a40c001e0a",
   "metadata": {},
   "outputs": [],
   "source": []
  }
 ],
 "metadata": {
  "kernelspec": {
   "display_name": "Python 3 (ipykernel)",
   "language": "python",
   "name": "python3"
  },
  "language_info": {
   "codemirror_mode": {
    "name": "ipython",
    "version": 3
   },
   "file_extension": ".py",
   "mimetype": "text/x-python",
   "name": "python",
   "nbconvert_exporter": "python",
   "pygments_lexer": "ipython3",
   "version": "3.9.7"
  }
 },
 "nbformat": 4,
 "nbformat_minor": 5
}
