{
 "cells": [
  {
   "cell_type": "markdown",
   "metadata": {},
   "source": [
    "# Reconstructing Artery Wall from Point Cloud Using Deep Learning"
   ]
  },
  {
   "cell_type": "markdown",
   "metadata": {},
   "source": [
    "Xinling Yu, Zhiyuan Ren, Ian Wu, Zheng Xu"
   ]
  },
  {
   "cell_type": "markdown",
   "metadata": {},
   "source": [
    "## 1. Introduction"
   ]
  },
  {
   "cell_type": "markdown",
   "metadata": {},
   "source": [
    "In the virtual surgery simulation system, the reconstruction of a highly precise 3D medical model is an effective method to improve the user’s visual telepresence. However, the traditional point cloud generation method based on subdivision and filling is unsatisfactory due to its low accuracy and slow speed. To address this problem, we present a novel 3D point cloud reconstructing model based on level set method."
   ]
  },
  {
   "cell_type": "markdown",
   "metadata": {},
   "source": [
    "## 2. Theory and Methods"
   ]
  },
  {
   "cell_type": "markdown",
   "metadata": {},
   "source": [
    "1. Implicitly defined manifolds\n",
    "2. Signed distance function and Eikonal PDE\n",
    "3. Implicit geometric regularization"
   ]
  },
  {
   "cell_type": "markdown",
   "metadata": {},
   "source": [
    "### Implicitly defined manifolds"
   ]
  },
  {
   "cell_type": "markdown",
   "metadata": {},
   "source": [
    "The implicit representation of a manifold takes the form\n",
    "\\begin{equation}\n",
    "\\mathcal{M}=\\left\\{\\boldsymbol{x} \\in \\mathbb{R}^{n} \\mid f(\\boldsymbol{x})=0\\right\\},\n",
    "\\end{equation}\n",
    "so that $\\boldsymbol{x} \\in \\mathcal{M}$ is a point on the manifold implicitly defined by the function $f: \\mathbb{R}^{n} \\rightarrow \\mathbb{R}$. There are three different cases for the level-set function $f$\n",
    "\\begin{align}\n",
    "&f(\\boldsymbol{x})>0,~\\boldsymbol{x}~\\text{is on the one side of the manifold}, \\\\\n",
    "&f(\\boldsymbol{x})<0,~\\boldsymbol{x}~\\text{is on the other side of the manifold}, \\\\\n",
    "&f(\\boldsymbol{x})=0,~\\boldsymbol{x}~\\text{is exactly on the manifold}.\n",
    "\\end{align}"
   ]
  },
  {
   "cell_type": "code",
   "execution_count": null,
   "metadata": {},
   "outputs": [],
   "source": [
    "from IPython.display import HTML\n",
    "\n",
    "HTML('''<script>\n",
    "code_show=true; \n",
    "function code_toggle() {\n",
    " if (code_show){\n",
    " $('div.input').hide();\n",
    " } else {\n",
    " $('div.input').show();\n",
    " }\n",
    " code_show = !code_show\n",
    "} \n",
    "$( document ).ready(code_toggle);\n",
    "</script>\n",
    "<form action=\"javascript:code_toggle()\"><input type=\"submit\" value=\"Click here to toggle on/off the raw code.\"></form>''')"
   ]
  },
  {
   "cell_type": "code",
   "execution_count": null,
   "metadata": {},
   "outputs": [],
   "source": [
    "%%html\n",
    "<center><img src='Circle.png', width=400, height=400>\n",
    "<center><img src='Aneurysm.png', width=600, height=600>"
   ]
  },
  {
   "cell_type": "markdown",
   "metadata": {},
   "source": [
    "### Signed distance function and Eikonal PDE"
   ]
  },
  {
   "cell_type": "markdown",
   "metadata": {},
   "source": [
    "If $\\Omega$ is a subset of a metric space, $X$, with metric, $d$, then the signed distance function, $f$, is defined by\n",
    "$$\n",
    "f(\\boldsymbol{x})= \\begin{cases}d(\\boldsymbol{x}, \\partial \\Omega) & \\text { if } \\boldsymbol{x} \\in \\Omega \\\\ -d(\\boldsymbol{x}, \\partial \\Omega) & \\text { if } \\boldsymbol{x} \\in \\Omega^{c}\\end{cases}\n",
    "$$\n",
    "where $\\partial \\Omega$ denotes the boundary of $\\Omega$. For any $\\boldsymbol{x} \\in X$,\n",
    "$$\n",
    "d(\\boldsymbol{x}, \\partial \\Omega):=\\inf _{\\boldsymbol{y} \\in \\partial \\Omega} d(\\boldsymbol{x}, \\boldsymbol{y})\n",
    "$$\n",
    "where inf denotes the infimum. From the above definition, we know that the signed distance function can be used to represent a manifold implicitly. The question is: How we find a appropriate signed distance function $f$?\n",
    "\n",
    "If $\\Omega$ is a subset of the Euclidean space $\\mathbb{R}^{n}$ with piecewise smooth boundary, then the signed distance function is differentiable almost everywhere, and its gradient satisfies the Eikonal PDE\n",
    "$$\n",
    "\\|\\nabla f\\|=1 \\text {, } \\\\\n",
    "f(\\boldsymbol{x}) = 0~~\\text{on}~~\\partial \\Omega.\n",
    "$$\n",
    "Given an input ponit cloud on the surface, now we can find a signed distance function that defines the manifold by solving the above Eikonal PDE."
   ]
  },
  {
   "cell_type": "markdown",
   "metadata": {},
   "source": [
    "### Implicit geometric regularization"
   ]
  },
  {
   "cell_type": "markdown",
   "metadata": {},
   "source": [
    "To solve the Eikonal PDE using deep learning, we use a neural network $f(\\boldsymbol{x};\\theta)$ to approximate the PDE solution $f$, then the parameter $\\theta$ can be learned by minimizing the following loss\n",
    "$$\n",
    "\\mathcal{L}(\\theta) = \\sum_{i \\in \\partial \\Omega} \\left|f\\left(x_{i} ; \\theta\\right)\\right|^{2} + \\lambda \\mathbb{E}_{x} \\left(\\left\\|\\nabla_{x} f(x ; \\theta)\\right\\|-1\\right)^{2},\n",
    "$$\n",
    "here the first term encourages $f$ to vanish on the surface and the second term forces $f$ to satisfy the Eikonal PDE."
   ]
  },
  {
   "cell_type": "markdown",
   "metadata": {},
   "source": [
    "## 3. Results"
   ]
  },
  {
   "cell_type": "markdown",
   "metadata": {},
   "source": [
    "1. Dataset and problem setup\n",
    "2. Reconstruction results"
   ]
  },
  {
   "cell_type": "markdown",
   "metadata": {},
   "source": [
    "### Dataset and problem setup"
   ]
  },
  {
   "cell_type": "markdown",
   "metadata": {},
   "source": [
    "We use the 3D Intracranial Aneurysm Dataset to assess the performance of our deep learning model. Specifically, given an input surface point cloud, we aim to reconstruct the artery wall by solving the Eikonal PDE. "
   ]
  },
  {
   "cell_type": "code",
   "execution_count": 51,
   "metadata": {},
   "outputs": [
    {
     "data": {
      "text/html": [
       "<center><img src='IntrA.png', width=1000, height=1000>\n"
      ],
      "text/plain": [
       "<IPython.core.display.HTML object>"
      ]
     },
     "metadata": {},
     "output_type": "display_data"
    }
   ],
   "source": [
    "%%html\n",
    "<center><img src='IntrA.png', width=1000, height=1000>"
   ]
  },
  {
   "cell_type": "markdown",
   "metadata": {},
   "source": [
    "### Reconstruction Visualization"
   ]
  },
  {
   "cell_type": "code",
   "execution_count": 34,
   "metadata": {},
   "outputs": [],
   "source": [
    "from pygel3d import graph\n",
    "from pygel3d import hmesh, gl_display as gl\n",
    "from pygel3d import jupyter_display as jd"
   ]
  },
  {
   "cell_type": "code",
   "execution_count": 35,
   "metadata": {},
   "outputs": [],
   "source": [
    "def graph(path):\n",
    "    result = hmesh.load(path)\n",
    "    return result"
   ]
  },
  {
   "cell_type": "markdown",
   "metadata": {
    "tags": []
   },
   "source": [
    "#### Visualization 1 - 100 Epochs - 1000 Sample Points"
   ]
  },
  {
   "cell_type": "code",
   "execution_count": 36,
   "metadata": {},
   "outputs": [
    {
     "data": {
      "application/vnd.jupyter.widget-view+json": {
       "model_id": "62de538d0b7a4a0c9c282e536725c5f9",
       "version_major": 2,
       "version_minor": 0
      },
      "text/plain": [
       "FigureWidget({\n",
       "    'data': [{'color': '#dddddd',\n",
       "              'flatshading': False,\n",
       "              'i': array(…"
      ]
     },
     "metadata": {},
     "output_type": "display_data"
    }
   ],
   "source": [
    "jd.display(graph(\"Data/3_truth.ply\"))"
   ]
  },
  {
   "cell_type": "code",
   "execution_count": 37,
   "metadata": {},
   "outputs": [
    {
     "data": {
      "text/html": [
       "<left><img src='2_pc.png', width=500, height=500>\n"
      ],
      "text/plain": [
       "<IPython.core.display.HTML object>"
      ]
     },
     "metadata": {},
     "output_type": "display_data"
    }
   ],
   "source": [
    "%%html\n",
    "<left><img src='2_pc.png', width=500, height=500>"
   ]
  },
  {
   "cell_type": "code",
   "execution_count": 38,
   "metadata": {},
   "outputs": [
    {
     "data": {
      "application/vnd.jupyter.widget-view+json": {
       "model_id": "38a68e04bb3b409e97ea0fb48c68df33",
       "version_major": 2,
       "version_minor": 0
      },
      "text/plain": [
       "FigureWidget({\n",
       "    'data': [{'color': '#dddddd',\n",
       "              'flatshading': False,\n",
       "              'i': array(…"
      ]
     },
     "metadata": {},
     "output_type": "display_data"
    }
   ],
   "source": [
    "jd.display(graph(\"Data/3_output.ply\"))"
   ]
  },
  {
   "cell_type": "markdown",
   "metadata": {
    "tags": []
   },
   "source": [
    "#### Visualization 2 - 100 Epochs - 2000 Sample Points"
   ]
  },
  {
   "cell_type": "code",
   "execution_count": 39,
   "metadata": {},
   "outputs": [
    {
     "data": {
      "application/vnd.jupyter.widget-view+json": {
       "model_id": "4e2fc482174f4637a387f2dfe169bf69",
       "version_major": 2,
       "version_minor": 0
      },
      "text/plain": [
       "FigureWidget({\n",
       "    'data': [{'color': '#dddddd',\n",
       "              'flatshading': False,\n",
       "              'i': array(…"
      ]
     },
     "metadata": {},
     "output_type": "display_data"
    }
   ],
   "source": [
    "jd.display(graph(\"Data/4_truth.obj\"))"
   ]
  },
  {
   "cell_type": "code",
   "execution_count": 40,
   "metadata": {},
   "outputs": [
    {
     "data": {
      "text/html": [
       "<left><img src='4_pc.png', width=500, height=500>\n"
      ],
      "text/plain": [
       "<IPython.core.display.HTML object>"
      ]
     },
     "metadata": {},
     "output_type": "display_data"
    }
   ],
   "source": [
    "%%html\n",
    "<left><img src='4_pc.png', width=500, height=500>"
   ]
  },
  {
   "cell_type": "code",
   "execution_count": 41,
   "metadata": {},
   "outputs": [
    {
     "data": {
      "application/vnd.jupyter.widget-view+json": {
       "model_id": "086277e3004b416cb6cc6ef44061f259",
       "version_major": 2,
       "version_minor": 0
      },
      "text/plain": [
       "FigureWidget({\n",
       "    'data': [{'color': '#dddddd',\n",
       "              'flatshading': False,\n",
       "              'i': array(…"
      ]
     },
     "metadata": {},
     "output_type": "display_data"
    }
   ],
   "source": [
    "jd.display(graph(\"Data/4_output.ply\"))"
   ]
  },
  {
   "cell_type": "markdown",
   "metadata": {},
   "source": [
    "#### Visualization 3 - 1000 Epochs - 1000 Sample Points"
   ]
  },
  {
   "cell_type": "code",
   "execution_count": 42,
   "metadata": {},
   "outputs": [
    {
     "data": {
      "application/vnd.jupyter.widget-view+json": {
       "model_id": "aa5352bfaea7497bac401d14f308f2bc",
       "version_major": 2,
       "version_minor": 0
      },
      "text/plain": [
       "FigureWidget({\n",
       "    'data': [{'color': '#dddddd',\n",
       "              'flatshading': False,\n",
       "              'i': array(…"
      ]
     },
     "metadata": {},
     "output_type": "display_data"
    }
   ],
   "source": [
    "jd.display(graph(\"Data/ground_truth_5.obj\"))"
   ]
  },
  {
   "cell_type": "code",
   "execution_count": 52,
   "metadata": {},
   "outputs": [
    {
     "data": {
      "text/html": [
       "<left><img src='5_pc.png', width=500, height=500>\n"
      ],
      "text/plain": [
       "<IPython.core.display.HTML object>"
      ]
     },
     "metadata": {},
     "output_type": "display_data"
    }
   ],
   "source": [
    "%%html\n",
    "<left><img src='5_pc.png', width=500, height=500>"
   ]
  },
  {
   "cell_type": "code",
   "execution_count": 45,
   "metadata": {},
   "outputs": [
    {
     "data": {
      "application/vnd.jupyter.widget-view+json": {
       "model_id": "9478c4a1afa24de0b07c5700e73c52e6",
       "version_major": 2,
       "version_minor": 0
      },
      "text/plain": [
       "FigureWidget({\n",
       "    'data': [{'color': '#dddddd',\n",
       "              'flatshading': False,\n",
       "              'i': array(…"
      ]
     },
     "metadata": {},
     "output_type": "display_data"
    }
   ],
   "source": [
    "jd.display(graph(\"Data/output_mesh_5.ply\"))"
   ]
  },
  {
   "cell_type": "markdown",
   "metadata": {},
   "source": [
    "## Visualization 4 (Complex Structure) - 300 Epochs"
   ]
  },
  {
   "cell_type": "markdown",
   "metadata": {},
   "source": [
    "### Test Case 1 - 10,000 Sample Points / 7x512 MLP"
   ]
  },
  {
   "cell_type": "code",
   "execution_count": 46,
   "metadata": {},
   "outputs": [
    {
     "data": {
      "text/html": [
       "<center><img src='Artery_1e4.png' style=\"transform: rotate(180deg); width=1000, height=1000\">\n"
      ],
      "text/plain": [
       "<IPython.core.display.HTML object>"
      ]
     },
     "metadata": {},
     "output_type": "display_data"
    }
   ],
   "source": [
    "%%html\n",
    "<center><img src='Artery_1e4.png' style=\"transform: rotate(180deg); width=1000, height=1000\">"
   ]
  },
  {
   "cell_type": "markdown",
   "metadata": {},
   "source": [
    "### Test Case 2 - 100,000 Sample Points / 7x512 MLP"
   ]
  },
  {
   "cell_type": "code",
   "execution_count": 47,
   "metadata": {},
   "outputs": [
    {
     "data": {
      "text/html": [
       "<center><img src='Artery_1e5.png' style=\"transform: rotate(180deg); width=1000, height=1000\">\n"
      ],
      "text/plain": [
       "<IPython.core.display.HTML object>"
      ]
     },
     "metadata": {},
     "output_type": "display_data"
    }
   ],
   "source": [
    "%%html\n",
    "<center><img src='Artery_1e5.png' style=\"transform: rotate(180deg); width=1000, height=1000\">"
   ]
  },
  {
   "cell_type": "markdown",
   "metadata": {},
   "source": [
    "### Test Case 3 - 100,000 Sample Points / 9x1024 MLP"
   ]
  },
  {
   "cell_type": "code",
   "execution_count": 48,
   "metadata": {},
   "outputs": [
    {
     "data": {
      "text/html": [
       "<center><img src='Artery_1e5_BigNN.png' style=\"transform: rotate(180deg); width=1000, height=1000\">\n"
      ],
      "text/plain": [
       "<IPython.core.display.HTML object>"
      ]
     },
     "metadata": {},
     "output_type": "display_data"
    }
   ],
   "source": [
    "%%html\n",
    "<center><img src='Artery_1e5_BigNN.png' style=\"transform: rotate(180deg); width=1000, height=1000\">"
   ]
  },
  {
   "cell_type": "markdown",
   "metadata": {},
   "source": [
    "### Test Case 3 3D Visualization"
   ]
  },
  {
   "cell_type": "code",
   "execution_count": 49,
   "metadata": {},
   "outputs": [
    {
     "data": {
      "application/vnd.jupyter.widget-view+json": {
       "model_id": "54994281727243c694935fd3a44017e4",
       "version_major": 2,
       "version_minor": 0
      },
      "text/plain": [
       "FigureWidget({\n",
       "    'data': [{'color': '#dddddd',\n",
       "              'flatshading': False,\n",
       "              'i': array(…"
      ]
     },
     "metadata": {},
     "output_type": "display_data"
    }
   ],
   "source": [
    "jd.display(graph(\"Data/1/ArteryObjAN1.obj\"))"
   ]
  },
  {
   "cell_type": "code",
   "execution_count": 50,
   "metadata": {},
   "outputs": [
    {
     "data": {
      "application/vnd.jupyter.widget-view+json": {
       "model_id": "210c7c3433ec4ff4a7756cbe2bd8ce5d",
       "version_major": 2,
       "version_minor": 0
      },
      "text/plain": [
       "FigureWidget({\n",
       "    'data': [{'color': '#dddddd',\n",
       "              'flatshading': False,\n",
       "              'i': array(…"
      ]
     },
     "metadata": {},
     "output_type": "display_data"
    }
   ],
   "source": [
    "jd.display(graph(\"Data/1/Artery_mesh_example1.ply\"))"
   ]
  },
  {
   "cell_type": "markdown",
   "metadata": {},
   "source": [
    "#### Artery reconstruction using 100,000 points and a 9 $\\times$ 1024 MLP"
   ]
  },
  {
   "cell_type": "markdown",
   "metadata": {},
   "source": [
    "## 4. Discussion"
   ]
  },
  {
   "cell_type": "code",
   "execution_count": null,
   "metadata": {},
   "outputs": [],
   "source": []
  },
  {
   "cell_type": "markdown",
   "metadata": {},
   "source": [
    "## 5. Reference"
   ]
  },
  {
   "cell_type": "markdown",
   "metadata": {},
   "source": [
    "1. UCSB ECE 594N Geometric Machine Learning for Biomedical Imaging and Shape Analysis: https://github.com/bioshape-lab/ece594n.\n",
    "2. Signed distance function from Wikipedia: https://en.wikipedia.org/wiki/Signed_distance_function.\n",
    "3. Yang, Xi, et al. \"IntrA: 3D intracranial aneurysm dataset for deep learning.\" Proceedings of the IEEE/CVF Conference on Computer Vision and Pattern Recognition. 2020.\n",
    "4. Gropp, Amos, et al. \"Implicit geometric regularization for learning shapes.\" arXiv preprint arXiv:2002.10099 (2020).\n"
   ]
  }
 ],
 "metadata": {
  "kernelspec": {
   "display_name": "Python 3 (ipykernel)",
   "language": "python",
   "name": "python3"
  },
  "language_info": {
   "codemirror_mode": {
    "name": "ipython",
    "version": 3
   },
   "file_extension": ".py",
   "mimetype": "text/x-python",
   "name": "python",
   "nbconvert_exporter": "python",
   "pygments_lexer": "ipython3",
   "version": "3.9.7"
  }
 },
 "nbformat": 4,
 "nbformat_minor": 4
}
