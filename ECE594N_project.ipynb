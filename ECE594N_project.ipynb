{
 "cells": [
  {
   "cell_type": "markdown",
   "metadata": {},
   "source": [
    "# Reconstructing Artery Wall from Point Cloud Using Deep Learning"
   ]
  },
  {
   "cell_type": "markdown",
   "metadata": {},
   "source": [
    "Xinling Yu, Zhiyuan Ren, Ian Wu, Zheng Xu"
   ]
  },
  {
   "cell_type": "markdown",
   "metadata": {},
   "source": [
    "## 1. Introduction"
   ]
  },
  {
   "cell_type": "markdown",
   "metadata": {},
   "source": [
    "\n",
    "In the virtual surgery simulation system, the reconstruction of a highly precise 3D medical model is an effective method to improve the user’s visual telepresence. However, the traditional point cloud generation method based on subdivision and filling is unsatisfactory due to its low accuracy and slow speed. To address this problem, we present a novel 3D point cloud reconstructing model based on level set method."
   ]
  },
  {
   "cell_type": "code",
   "execution_count": 62,
   "metadata": {},
   "outputs": [
    {
     "data": {
      "text/html": [
       "<center><img src='virtual.png', width=800, height=800>\n"
      ],
      "text/plain": [
       "<IPython.core.display.HTML object>"
      ]
     },
     "metadata": {},
     "output_type": "display_data"
    }
   ],
   "source": [
    "%%html\n",
    "<center><img src='virtual.png', width=800, height=800>"
   ]
  },
  {
   "cell_type": "markdown",
   "metadata": {},
   "source": [
    "## 2. Theory and Methods"
   ]
  },
  {
   "cell_type": "markdown",
   "metadata": {},
   "source": [
    "1. Implicitly defined manifolds\n",
    "2. Signed distance function and Eikonal PDE\n",
    "3. Implicit geometric regularization"
   ]
  },
  {
   "cell_type": "markdown",
   "metadata": {},
   "source": [
    "### Implicitly defined manifolds"
   ]
  },
  {
   "cell_type": "markdown",
   "metadata": {},
   "source": [
    "The implicit representation of a manifold takes the form\n",
    "\\begin{equation}\n",
    "\\mathcal{M}=\\left\\{\\boldsymbol{x} \\in \\mathbb{R}^{n} \\mid f(\\boldsymbol{x})=0\\right\\},\n",
    "\\end{equation}\n",
    "so that $\\boldsymbol{x} \\in \\mathcal{M}$ is a point on the manifold implicitly defined by the function $f: \\mathbb{R}^{n} \\rightarrow \\mathbb{R}$. There are three different cases for the level-set function $f$\n",
    "\\begin{align}\n",
    "&f(\\boldsymbol{x})>0,~\\boldsymbol{x}~\\text{is on the one side of the manifold}, \\\\\n",
    "&f(\\boldsymbol{x})<0,~\\boldsymbol{x}~\\text{is on the other side of the manifold}, \\\\\n",
    "&f(\\boldsymbol{x})=0,~\\boldsymbol{x}~\\text{is exactly on the manifold}.\n",
    "\\end{align}"
   ]
  },
  {
   "cell_type": "code",
   "execution_count": 63,
   "metadata": {},
   "outputs": [
    {
     "data": {
      "text/html": [
       "<script>\n",
       "code_show=true; \n",
       "function code_toggle() {\n",
       " if (code_show){\n",
       " $('div.input').hide();\n",
       " } else {\n",
       " $('div.input').show();\n",
       " }\n",
       " code_show = !code_show\n",
       "} \n",
       "$( document ).ready(code_toggle);\n",
       "</script>\n",
       "<form action=\"javascript:code_toggle()\"><input type=\"submit\" value=\"Click here to toggle on/off the raw code.\"></form>"
      ],
      "text/plain": [
       "<IPython.core.display.HTML object>"
      ]
     },
     "execution_count": 63,
     "metadata": {},
     "output_type": "execute_result"
    }
   ],
   "source": [
    "from IPython.display import HTML\n",
    "\n",
    "HTML('''<script>\n",
    "code_show=true; \n",
    "function code_toggle() {\n",
    " if (code_show){\n",
    " $('div.input').hide();\n",
    " } else {\n",
    " $('div.input').show();\n",
    " }\n",
    " code_show = !code_show\n",
    "} \n",
    "$( document ).ready(code_toggle);\n",
    "</script>\n",
    "<form action=\"javascript:code_toggle()\"><input type=\"submit\" value=\"Click here to toggle on/off the raw code.\"></form>''')"
   ]
  },
  {
   "cell_type": "code",
   "execution_count": 64,
   "metadata": {},
   "outputs": [
    {
     "data": {
      "text/html": [
       "<center><img src='Circle.png', width=400, height=400>\n",
       "<center><img src='Aneurysm.png', width=600, height=600>\n"
      ],
      "text/plain": [
       "<IPython.core.display.HTML object>"
      ]
     },
     "metadata": {},
     "output_type": "display_data"
    }
   ],
   "source": [
    "%%html\n",
    "<center><img src='Circle.png', width=400, height=400>\n",
    "<center><img src='Aneurysm.png', width=600, height=600>"
   ]
  },
  {
   "cell_type": "markdown",
   "metadata": {},
   "source": [
    "### Signed distance function and Eikonal PDE"
   ]
  },
  {
   "cell_type": "markdown",
   "metadata": {},
   "source": [
    "If $\\Omega$ is a subset of a metric space, $X$, with metric, $d$, then the signed distance function, $f$, is defined by\n",
    "$$\n",
    "f(\\boldsymbol{x})= \\begin{cases}d(\\boldsymbol{x}, \\partial \\Omega) & \\text { if } \\boldsymbol{x} \\in \\Omega \\\\ -d(\\boldsymbol{x}, \\partial \\Omega) & \\text { if } \\boldsymbol{x} \\in \\Omega^{c}\\end{cases}\n",
    "$$\n",
    "where $\\partial \\Omega$ denotes the boundary of $\\Omega$. For any $\\boldsymbol{x} \\in X$,\n",
    "$$\n",
    "d(\\boldsymbol{x}, \\partial \\Omega):=\\inf _{\\boldsymbol{y} \\in \\partial \\Omega} d(\\boldsymbol{x}, \\boldsymbol{y})\n",
    "$$\n",
    "where inf denotes the infimum. From the above definition, we know that the signed distance function can be used to represent a manifold implicitly. The question is: How we find a appropriate signed distance function $f$?\n",
    "\n",
    "If $\\Omega$ is a subset of the Euclidean space $\\mathbb{R}^{n}$ with piecewise smooth boundary, then the signed distance function is differentiable almost everywhere, and its gradient satisfies the Eikonal PDE\n",
    "$$\n",
    "\\|\\nabla f\\|=1 \\text {, } \\\\\n",
    "f(\\boldsymbol{x}) = 0~~\\text{on}~~\\partial \\Omega.\n",
    "$$\n",
    "Given an input ponit cloud on the surface, now we can find a signed distance function that defines the manifold by solving the above Eikonal PDE."
   ]
  },
  {
   "cell_type": "markdown",
   "metadata": {},
   "source": [
    "### Implicit geometric regularization"
   ]
  },
  {
   "cell_type": "markdown",
   "metadata": {},
   "source": [
    "To solve the Eikonal PDE using deep learning, we use a neural network $f(\\boldsymbol{x};\\theta)$ to approximate the PDE solution $f$, then the parameter $\\theta$ can be learned by minimizing the following loss\n",
    "$$\n",
    "\\mathcal{L}(\\theta) = \\sum_{i \\in \\partial \\Omega} \\left|f\\left(x_{i} ; \\theta\\right)\\right|^{2} + \\lambda \\mathbb{E}_{x} \\left(\\left\\|\\nabla_{x} f(x ; \\theta)\\right\\|-1\\right)^{2},\n",
    "$$\n",
    "here the first term encourages $f$ to vanish on the surface and the second term forces $f$ to satisfy the Eikonal PDE."
   ]
  },
  {
   "cell_type": "markdown",
   "metadata": {},
   "source": [
    "## 3. Results"
   ]
  },
  {
   "cell_type": "markdown",
   "metadata": {},
   "source": [
    "1. Dataset and problem setup\n",
    "2. Reconstruction results"
   ]
  },
  {
   "cell_type": "markdown",
   "metadata": {},
   "source": [
    "### Dataset and problem setup"
   ]
  },
  {
   "cell_type": "markdown",
   "metadata": {},
   "source": [
    "We use the 3D Intracranial Aneurysm Dataset to assess the performance of our deep learning model. Specifically, given an input surface point cloud, we aim to reconstruct the artery wall by solving the Eikonal PDE. "
   ]
  },
  {
   "cell_type": "code",
   "execution_count": 65,
   "metadata": {},
   "outputs": [
    {
     "data": {
      "text/html": [
       "<center><img src='IntrA.png', width=1000, height=1000>\n"
      ],
      "text/plain": [
       "<IPython.core.display.HTML object>"
      ]
     },
     "metadata": {},
     "output_type": "display_data"
    }
   ],
   "source": [
    "%%html\n",
    "<center><img src='IntrA.png', width=1000, height=1000>"
   ]
  },
  {
   "cell_type": "markdown",
   "metadata": {},
   "source": [
    "### Reconstruction Visualization"
   ]
  },
  {
   "cell_type": "code",
   "execution_count": 66,
   "metadata": {},
   "outputs": [],
   "source": [
    "from pygel3d import graph\n",
    "from pygel3d import hmesh, gl_display as gl\n",
    "from pygel3d import jupyter_display as jd"
   ]
  },
  {
   "cell_type": "code",
   "execution_count": 67,
   "metadata": {},
   "outputs": [],
   "source": [
    "def graph(path):\n",
    "    result = hmesh.load(path)\n",
    "    return result"
   ]
  },
  {
   "cell_type": "markdown",
   "metadata": {
    "tags": []
   },
   "source": [
    "## Visualization 1 - 100 Epochs - 500 Sample Points"
   ]
  },
  {
   "cell_type": "code",
   "execution_count": 69,
   "metadata": {},
   "outputs": [
    {
     "data": {
      "text/html": [
       "<left><img src='5_pc.png', width=500, height=500>\n"
      ],
      "text/plain": [
       "<IPython.core.display.HTML object>"
      ]
     },
     "metadata": {},
     "output_type": "display_data"
    }
   ],
   "source": [
    "%%html\n",
    "<left><img src='5_pc.png', width=500, height=500>"
   ]
  },
  {
   "cell_type": "code",
   "execution_count": 68,
   "metadata": {},
   "outputs": [
    {
     "data": {
      "application/vnd.jupyter.widget-view+json": {
       "model_id": "85c60783b95347a4804812969dc4b4c2",
       "version_major": 2,
       "version_minor": 0
      },
      "text/plain": [
       "FigureWidget({\n",
       "    'data': [{'color': '#dddddd',\n",
       "              'flatshading': False,\n",
       "              'i': array(…"
      ]
     },
     "metadata": {},
     "output_type": "display_data"
    }
   ],
   "source": [
    "jd.display(graph(\"Data/ground_truth_5.obj\"))"
   ]
  },
  {
   "cell_type": "code",
   "execution_count": 70,
   "metadata": {},
   "outputs": [
    {
     "data": {
      "application/vnd.jupyter.widget-view+json": {
       "model_id": "c2c5b65569af4ae882e94ecb1a22dc6d",
       "version_major": 2,
       "version_minor": 0
      },
      "text/plain": [
       "FigureWidget({\n",
       "    'data': [{'color': '#dddddd',\n",
       "              'flatshading': False,\n",
       "              'i': array(…"
      ]
     },
     "metadata": {},
     "output_type": "display_data"
    }
   ],
   "source": [
    "jd.display(graph(\"Data/output_mesh_5.ply\"))"
   ]
  },
  {
   "cell_type": "code",
   "execution_count": 71,
   "metadata": {},
   "outputs": [
    {
     "data": {
      "text/html": [
       "<left><img src='simple_sample_1.png', width=1000, height=1000>\n"
      ],
      "text/plain": [
       "<IPython.core.display.HTML object>"
      ]
     },
     "metadata": {},
     "output_type": "display_data"
    }
   ],
   "source": [
    "%%html\n",
    "<left><img src='simple_sample_1.png', width=1000, height=1000>"
   ]
  },
  {
   "cell_type": "markdown",
   "metadata": {
    "tags": []
   },
   "source": [
    "## Visualization 2 - 100 Epochs - 1000 Sample Points"
   ]
  },
  {
   "cell_type": "code",
   "execution_count": 85,
   "metadata": {},
   "outputs": [
    {
     "data": {
      "text/html": [
       "<left><img src='2_pc.png', width=500, height=500>\n"
      ],
      "text/plain": [
       "<IPython.core.display.HTML object>"
      ]
     },
     "metadata": {},
     "output_type": "display_data"
    }
   ],
   "source": [
    "%%html\n",
    "<left><img src='2_pc.png', width=500, height=500>"
   ]
  },
  {
   "cell_type": "code",
   "execution_count": 72,
   "metadata": {},
   "outputs": [
    {
     "data": {
      "application/vnd.jupyter.widget-view+json": {
       "model_id": "88cad97354964bdaaccbfb28048ce3b9",
       "version_major": 2,
       "version_minor": 0
      },
      "text/plain": [
       "FigureWidget({\n",
       "    'data': [{'color': '#dddddd',\n",
       "              'flatshading': False,\n",
       "              'i': array(…"
      ]
     },
     "metadata": {},
     "output_type": "display_data"
    }
   ],
   "source": [
    "jd.display(graph(\"Data/3_truth.ply\"))"
   ]
  },
  {
   "cell_type": "code",
   "execution_count": 74,
   "metadata": {},
   "outputs": [
    {
     "data": {
      "application/vnd.jupyter.widget-view+json": {
       "model_id": "8f5cb33ba7634c929dc4505b166a4af5",
       "version_major": 2,
       "version_minor": 0
      },
      "text/plain": [
       "FigureWidget({\n",
       "    'data': [{'color': '#dddddd',\n",
       "              'flatshading': False,\n",
       "              'i': array(…"
      ]
     },
     "metadata": {},
     "output_type": "display_data"
    }
   ],
   "source": [
    "jd.display(graph(\"Data/3_output.ply\"))"
   ]
  },
  {
   "cell_type": "markdown",
   "metadata": {
    "tags": []
   },
   "source": [
    "## Visualization 3 - 100 Epochs - 2000 Sample Points"
   ]
  },
  {
   "cell_type": "code",
   "execution_count": 76,
   "metadata": {},
   "outputs": [
    {
     "data": {
      "text/html": [
       "<left><img src='4_pc.png', width=500, height=500>\n"
      ],
      "text/plain": [
       "<IPython.core.display.HTML object>"
      ]
     },
     "metadata": {},
     "output_type": "display_data"
    }
   ],
   "source": [
    "%%html\n",
    "<left><img src='4_pc.png', width=500, height=500>"
   ]
  },
  {
   "cell_type": "code",
   "execution_count": 75,
   "metadata": {},
   "outputs": [
    {
     "data": {
      "application/vnd.jupyter.widget-view+json": {
       "model_id": "e926b4ed4ac64ad48b9dd0354bf1278d",
       "version_major": 2,
       "version_minor": 0
      },
      "text/plain": [
       "FigureWidget({\n",
       "    'data': [{'color': '#dddddd',\n",
       "              'flatshading': False,\n",
       "              'i': array(…"
      ]
     },
     "metadata": {},
     "output_type": "display_data"
    }
   ],
   "source": [
    "jd.display(graph(\"Data/4_truth.obj\"))"
   ]
  },
  {
   "cell_type": "code",
   "execution_count": 77,
   "metadata": {},
   "outputs": [
    {
     "data": {
      "application/vnd.jupyter.widget-view+json": {
       "model_id": "b045fd16cc6841cca48d695b6fd5b3d9",
       "version_major": 2,
       "version_minor": 0
      },
      "text/plain": [
       "FigureWidget({\n",
       "    'data': [{'color': '#dddddd',\n",
       "              'flatshading': False,\n",
       "              'i': array(…"
      ]
     },
     "metadata": {},
     "output_type": "display_data"
    }
   ],
   "source": [
    "jd.display(graph(\"Data/4_output.ply\"))"
   ]
  },
  {
   "cell_type": "markdown",
   "metadata": {},
   "source": [
    "## Visualization 4 (Complex Structure) - 300 Epochs"
   ]
  },
  {
   "cell_type": "markdown",
   "metadata": {},
   "source": [
    "### Test Case 1 - 10,000 Sample Points / 7x512 MLP"
   ]
  },
  {
   "cell_type": "code",
   "execution_count": 78,
   "metadata": {},
   "outputs": [
    {
     "data": {
      "text/html": [
       "<center><img src='Artery_1e4.png' style=\"transform: rotate(180deg); width=1000, height=1000\">\n"
      ],
      "text/plain": [
       "<IPython.core.display.HTML object>"
      ]
     },
     "metadata": {},
     "output_type": "display_data"
    }
   ],
   "source": [
    "%%html\n",
    "<center><img src='Artery_1e4.png' style=\"transform: rotate(180deg); width=1000, height=1000\">"
   ]
  },
  {
   "cell_type": "markdown",
   "metadata": {},
   "source": [
    "### Test Case 2 - 100,000 Sample Points / 7x512 MLP"
   ]
  },
  {
   "cell_type": "code",
   "execution_count": 79,
   "metadata": {},
   "outputs": [
    {
     "data": {
      "text/html": [
       "<center><img src='Artery_1e5.png' style=\"transform: rotate(180deg); width=1000, height=1000\">\n"
      ],
      "text/plain": [
       "<IPython.core.display.HTML object>"
      ]
     },
     "metadata": {},
     "output_type": "display_data"
    }
   ],
   "source": [
    "%%html\n",
    "<center><img src='Artery_1e5.png' style=\"transform: rotate(180deg); width=1000, height=1000\">"
   ]
  },
  {
   "cell_type": "markdown",
   "metadata": {},
   "source": [
    "### Test Case 3 - 100,000 Sample Points / 9x1024 MLP"
   ]
  },
  {
   "cell_type": "code",
   "execution_count": 80,
   "metadata": {},
   "outputs": [
    {
     "data": {
      "text/html": [
       "<center><img src='Artery_1e5_BigNN.png' style=\"transform: rotate(180deg); width=1000, height=1000\">\n"
      ],
      "text/plain": [
       "<IPython.core.display.HTML object>"
      ]
     },
     "metadata": {},
     "output_type": "display_data"
    }
   ],
   "source": [
    "%%html\n",
    "<center><img src='Artery_1e5_BigNN.png' style=\"transform: rotate(180deg); width=1000, height=1000\">"
   ]
  },
  {
   "cell_type": "markdown",
   "metadata": {},
   "source": [
    "### Test Case 3 - 3D Visualization"
   ]
  },
  {
   "cell_type": "code",
   "execution_count": 81,
   "metadata": {},
   "outputs": [
    {
     "data": {
      "application/vnd.jupyter.widget-view+json": {
       "model_id": "504f46d826c54fec9c0d6025e82d3aea",
       "version_major": 2,
       "version_minor": 0
      },
      "text/plain": [
       "FigureWidget({\n",
       "    'data': [{'color': '#dddddd',\n",
       "              'flatshading': False,\n",
       "              'i': array(…"
      ]
     },
     "metadata": {},
     "output_type": "display_data"
    }
   ],
   "source": [
    "jd.display(graph(\"Data/1/ArteryObjAN1.obj\"))"
   ]
  },
  {
   "cell_type": "code",
   "execution_count": 82,
   "metadata": {},
   "outputs": [
    {
     "data": {
      "application/vnd.jupyter.widget-view+json": {
       "model_id": "c2f36e47d4114c3283b8eb135f59c98e",
       "version_major": 2,
       "version_minor": 0
      },
      "text/plain": [
       "FigureWidget({\n",
       "    'data': [{'color': '#dddddd',\n",
       "              'flatshading': False,\n",
       "              'i': array(…"
      ]
     },
     "metadata": {},
     "output_type": "display_data"
    }
   ],
   "source": [
    "jd.display(graph(\"Data/1/Artery_mesh_example1.ply\"))"
   ]
  },
  {
   "cell_type": "markdown",
   "metadata": {},
   "source": [
    "#### Artery reconstruction using 100,000 points and a 9 $\\times$ 1024 MLP"
   ]
  },
  {
   "cell_type": "markdown",
   "metadata": {},
   "source": [
    "## 4. Discussion"
   ]
  },
  {
   "cell_type": "markdown",
   "metadata": {},
   "source": [
    "1 - The equation for level set characterizes a closed surface, but the shape of the artery Wall is not closed, which can lead to times when different branches of the artery Wall are connected together. For simple shapes, the open part will close automatically; however, for complex shapes, the effect may be poor. A new manifold space may be needed to characterize it better.\n",
    "\n",
    "\n",
    "2 - For particularly complex artery Wall, the effect will be especially poor because there is a gap between the point cloud and the shape itself. we consider that there are bright spots that may help. First, we can add the information of norm, which can help define the orientation of the points and make the shape more reasonable; second, we can add the consistency loss function, so that when we get the reconstructed results, we can resample a set of point clouds from them and compare them with the original input to do the loss."
   ]
  },
  {
   "cell_type": "markdown",
   "metadata": {},
   "source": [
    "## 5. Conclusion"
   ]
  },
  {
   "cell_type": "markdown",
   "metadata": {},
   "source": [
    "\n",
    "\n",
    "1 - The reconstruction method of level set is very suitable for the reconstruction of images;because it uses implicit equation representation,  the generated shapes are very natural.\n",
    "\n",
    "\n",
    "2- However, for complex shapes, the level set method alone seems to be insufficient, and for specific tasks with specific datasets, we may need to add a priori information to help us reconstruct better."
   ]
  },
  {
   "cell_type": "markdown",
   "metadata": {},
   "source": [
    "## 5. Reference"
   ]
  },
  {
   "cell_type": "markdown",
   "metadata": {},
   "source": [
    "1. UCSB ECE 594N Geometric Machine Learning for Biomedical Imaging and Shape Analysis: https://github.com/bioshape-lab/ece594n.\n",
    "2. Signed distance function from Wikipedia: https://en.wikipedia.org/wiki/Signed_distance_function.\n",
    "3. Yang, Xi, et al. \"IntrA: 3D intracranial aneurysm dataset for deep learning.\" Proceedings of the IEEE/CVF Conference on Computer Vision and Pattern Recognition. 2020.\n",
    "4. Gropp, Amos, et al. \"Implicit geometric regularization for learning shapes.\" arXiv preprint arXiv:2002.10099 (2020).\n"
   ]
  },
  {
   "cell_type": "code",
   "execution_count": null,
   "metadata": {},
   "outputs": [],
   "source": []
  }
 ],
 "metadata": {
  "kernelspec": {
   "display_name": "Python 3 (ipykernel)",
   "language": "python",
   "name": "python3"
  },
  "language_info": {
   "codemirror_mode": {
    "name": "ipython",
    "version": 3
   },
   "file_extension": ".py",
   "mimetype": "text/x-python",
   "name": "python",
   "nbconvert_exporter": "python",
   "pygments_lexer": "ipython3",
   "version": "3.9.7"
  }
 },
 "nbformat": 4,
 "nbformat_minor": 4
}
