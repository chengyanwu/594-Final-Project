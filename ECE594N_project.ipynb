{
 "cells": [
  {
   "cell_type": "markdown",
   "metadata": {},
   "source": [
    "# Reconstructing Artery Wall from Point Cloud Using Deep Learning"
   ]
  },
  {
   "cell_type": "markdown",
   "metadata": {},
   "source": [
    "Xinling Yu, Zhiyuan Ren, Ian Wu, Zheng Xu"
   ]
  },
  {
   "cell_type": "markdown",
   "metadata": {},
   "source": [
    "## 1. Introduction"
   ]
  },
  {
   "cell_type": "markdown",
   "metadata": {},
   "source": [
    "## 2. Theory and Methods"
   ]
  },
  {
   "cell_type": "markdown",
   "metadata": {},
   "source": [
    "1. Implicitly defined manifolds\n",
    "2. Signed distance function and Eikonal PDE\n",
    "3. Implicit geometric regularization"
   ]
  },
  {
   "cell_type": "markdown",
   "metadata": {},
   "source": [
    "### Implicitly defined manifolds"
   ]
  },
  {
   "cell_type": "markdown",
   "metadata": {},
   "source": [
    "The implicit representation of a manifold takes the form\n",
    "\\begin{equation}\n",
    "\\mathcal{M}=\\left\\{\\boldsymbol{x} \\in \\mathbb{R}^{n} \\mid f(\\boldsymbol{x})=0\\right\\},\n",
    "\\end{equation}\n",
    "so that $\\boldsymbol{x} \\in \\mathcal{M}$ is a point on the manifold implicitly defined by the function $f: \\mathbb{R}^{n} \\rightarrow \\mathbb{R}$. There are three different cases for the level-set function $f$\n",
    "\\begin{align}\n",
    "&f(\\boldsymbol{x})>0,~\\boldsymbol{x}~\\text{is on the one side of the manifold}, \\\\\n",
    "&f(\\boldsymbol{x})<0,~\\boldsymbol{x}~\\text{is on the other side of the manifold}, \\\\\n",
    "&f(\\boldsymbol{x})=0,~\\boldsymbol{x}~\\text{is exactly on the manifold}.\n",
    "\\end{align}"
   ]
  },
  {
   "cell_type": "code",
   "execution_count": 1,
   "metadata": {},
   "outputs": [
    {
     "data": {
      "text/html": [
       "<script>\n",
       "code_show=true; \n",
       "function code_toggle() {\n",
       " if (code_show){\n",
       " $('div.input').hide();\n",
       " } else {\n",
       " $('div.input').show();\n",
       " }\n",
       " code_show = !code_show\n",
       "} \n",
       "$( document ).ready(code_toggle);\n",
       "</script>\n",
       "<form action=\"javascript:code_toggle()\"><input type=\"submit\" value=\"Click here to toggle on/off the raw code.\"></form>"
      ],
      "text/plain": [
       "<IPython.core.display.HTML object>"
      ]
     },
     "execution_count": 1,
     "metadata": {},
     "output_type": "execute_result"
    }
   ],
   "source": [
    "from IPython.display import HTML\n",
    "\n",
    "HTML('''<script>\n",
    "code_show=true; \n",
    "function code_toggle() {\n",
    " if (code_show){\n",
    " $('div.input').hide();\n",
    " } else {\n",
    " $('div.input').show();\n",
    " }\n",
    " code_show = !code_show\n",
    "} \n",
    "$( document ).ready(code_toggle);\n",
    "</script>\n",
    "<form action=\"javascript:code_toggle()\"><input type=\"submit\" value=\"Click here to toggle on/off the raw code.\"></form>''')"
   ]
  },
  {
   "cell_type": "code",
   "execution_count": 2,
   "metadata": {},
   "outputs": [
    {
     "data": {
      "text/html": [
       "<center><img src='Circle.png', width=400, height=400>\n",
       "<center><img src='Aneurysm.png', width=600, height=600>\n"
      ],
      "text/plain": [
       "<IPython.core.display.HTML object>"
      ]
     },
     "metadata": {},
     "output_type": "display_data"
    }
   ],
   "source": [
    "%%html\n",
    "<center><img src='Circle.png', width=400, height=400>\n",
    "<center><img src='Aneurysm.png', width=600, height=600>"
   ]
  },
  {
   "cell_type": "markdown",
   "metadata": {},
   "source": [
    "### Signed distance function and Eikonal PDE"
   ]
  },
  {
   "cell_type": "markdown",
   "metadata": {},
   "source": [
    "If $\\Omega$ is a subset of a metric space, $X$, with metric, $d$, then the signed distance function, $f$, is defined by\n",
    "$$\n",
    "f(\\boldsymbol{x})= \\begin{cases}d(\\boldsymbol{x}, \\partial \\Omega) & \\text { if } \\boldsymbol{x} \\in \\Omega \\\\ -d(\\boldsymbol{x}, \\partial \\Omega) & \\text { if } \\boldsymbol{x} \\in \\Omega^{c}\\end{cases}\n",
    "$$\n",
    "where $\\partial \\Omega$ denotes the boundary of $\\Omega$. For any $\\boldsymbol{x} \\in X$,\n",
    "$$\n",
    "d(\\boldsymbol{x}, \\partial \\Omega):=\\inf _{\\boldsymbol{y} \\in \\partial \\Omega} d(\\boldsymbol{x}, \\boldsymbol{y})\n",
    "$$\n",
    "where inf denotes the infimum. From the above definition, we know that the signed distance function can be used to represent a manifold implicitly. The question is: How we find a appropriate signed distance function $f$?\n",
    "\n",
    "If $\\Omega$ is a subset of the Euclidean space $\\mathbb{R}^{n}$ with piecewise smooth boundary, then the signed distance function is differentiable almost everywhere, and its gradient satisfies the Eikonal PDE\n",
    "$$\n",
    "\\|\\nabla f\\|=1 \\text {, } \\\\\n",
    "f(\\boldsymbol{x}) = 0~~\\text{on}~~\\partial \\Omega.\n",
    "$$\n",
    "Given an input ponit cloud on the surface, now we can find a signed distance function that defines the manifold by solving the above Eikonal PDE."
   ]
  },
  {
   "cell_type": "markdown",
   "metadata": {},
   "source": [
    "### Implicit geometric regularization"
   ]
  },
  {
   "cell_type": "markdown",
   "metadata": {},
   "source": [
    "To solve the Eikonal PDE using deep learning, we use a neural network $f(\\boldsymbol{x};\\theta)$ to approximate the PDE solution $f$, then the parameter $\\theta$ can be learned by minimizing the following loss\n",
    "$$\n",
    "\\mathcal{L}(\\theta) = \\sum_{i \\in \\partial \\Omega} \\left|f\\left(x_{i} ; \\theta\\right)\\right|^{2} + \\lambda \\mathbb{E}_{x} \\left(\\left\\|\\nabla_{x} f(x ; \\theta)\\right\\|-1\\right)^{2},\n",
    "$$\n",
    "here the first term encourages $f$ to vanish on the surface and the second term forces $f$ to satisfy the Eikonal PDE."
   ]
  },
  {
   "cell_type": "markdown",
   "metadata": {},
   "source": [
    "## 3. Results"
   ]
  },
  {
   "cell_type": "markdown",
   "metadata": {},
   "source": [
    "1. Dataset and problem setup\n",
    "2. Reconstruction results"
   ]
  },
  {
   "cell_type": "markdown",
   "metadata": {},
   "source": [
    "### Dataset and problem setup"
   ]
  },
  {
   "cell_type": "markdown",
   "metadata": {},
   "source": [
    "We use the 3D Intracranial Aneurysm Dataset to assess the performance of our deep learning model. Specifically, given an input surface point cloud, we aim to reconstruct the artery wall by solving the Eikonal PDE. "
   ]
  },
  {
   "cell_type": "code",
   "execution_count": 3,
   "metadata": {},
   "outputs": [
    {
     "data": {
      "text/html": [
       "<center><img src='IntrA.png', width=1000, height=1000>\n"
      ],
      "text/plain": [
       "<IPython.core.display.HTML object>"
      ]
     },
     "metadata": {},
     "output_type": "display_data"
    }
   ],
   "source": [
    "%%html\n",
    "<center><img src='IntrA.png', width=1000, height=1000>"
   ]
  },
  {
   "cell_type": "markdown",
   "metadata": {},
   "source": [
    "### Reconstruction results"
   ]
  },
  {
   "cell_type": "markdown",
   "metadata": {},
   "source": [
    "#### Artery reconstruction using 10,000 points and a 7 $\\times$ 512 MLP"
   ]
  },
  {
   "cell_type": "code",
   "execution_count": 4,
   "metadata": {},
   "outputs": [
    {
     "data": {
      "text/html": [
       "<center><img src='Artery_1e4.png', width=1000, height=1000>\n"
      ],
      "text/plain": [
       "<IPython.core.display.HTML object>"
      ]
     },
     "metadata": {},
     "output_type": "display_data"
    }
   ],
   "source": [
    "%%html\n",
    "<center><img src='Artery_1e4.png', width=1000, height=1000>"
   ]
  },
  {
   "cell_type": "markdown",
   "metadata": {},
   "source": [
    "#### Artery reconstruction using 100,000 points and a 7 $\\times$ 512 MLP"
   ]
  },
  {
   "cell_type": "code",
   "execution_count": 5,
   "metadata": {},
   "outputs": [
    {
     "data": {
      "text/html": [
       "<center><img src='Artery_1e5.png', width=1000, height=1000>\n"
      ],
      "text/plain": [
       "<IPython.core.display.HTML object>"
      ]
     },
     "metadata": {},
     "output_type": "display_data"
    }
   ],
   "source": [
    "%%html\n",
    "<center><img src='Artery_1e5.png', width=1000, height=1000>"
   ]
  },
  {
   "cell_type": "markdown",
   "metadata": {},
   "source": [
    "#### Artery reconstruction using 100,000 points and a 9 $\\times$ 1024 MLP"
   ]
  },
  {
   "cell_type": "code",
   "execution_count": 6,
   "metadata": {},
   "outputs": [
    {
     "data": {
      "text/html": [
       "<center><img src='Artery_1e5_BigNN.png', width=1000, height=1000>\n"
      ],
      "text/plain": [
       "<IPython.core.display.HTML object>"
      ]
     },
     "metadata": {},
     "output_type": "display_data"
    }
   ],
   "source": [
    "%%html\n",
    "<center><img src='Artery_1e5_BigNN.png', width=1000, height=1000>"
   ]
  },
  {
   "cell_type": "markdown",
   "metadata": {},
   "source": [
    "## 4. Discussion"
   ]
  },
  {
   "cell_type": "markdown",
   "metadata": {},
   "source": [
    "## 5. Reference"
   ]
  },
  {
   "cell_type": "markdown",
   "metadata": {},
   "source": [
    "1. UCSB ECE 594N Geometric Machine Learning for Biomedical Imaging and Shape Analysis: https://github.com/bioshape-lab/ece594n.\n",
    "2. Signed distance function from Wikipedia: https://en.wikipedia.org/wiki/Signed_distance_function.\n",
    "3. Yang, Xi, et al. \"IntrA: 3D intracranial aneurysm dataset for deep learning.\" Proceedings of the IEEE/CVF Conference on Computer Vision and Pattern Recognition. 2020.\n",
    "4. Gropp, Amos, et al. \"Implicit geometric regularization for learning shapes.\" arXiv preprint arXiv:2002.10099 (2020).\n"
   ]
  }
 ],
 "metadata": {
  "kernelspec": {
   "display_name": "Python 3",
   "language": "python",
   "name": "python3"
  },
  "language_info": {
   "codemirror_mode": {
    "name": "ipython",
    "version": 3
   },
   "file_extension": ".py",
   "mimetype": "text/x-python",
   "name": "python",
   "nbconvert_exporter": "python",
   "pygments_lexer": "ipython3",
   "version": "3.7.4"
  }
 },
 "nbformat": 4,
 "nbformat_minor": 2
}
